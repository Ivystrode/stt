{
 "cells": [
  {
   "cell_type": "code",
   "execution_count": 32,
   "metadata": {},
   "outputs": [],
   "source": [
    "import requests, sqlalchemy\n",
    "from bs4 import BeautifulSoup\n",
    "from html.parser import HTMLParser\n",
    "import pandas as pd\n",
    "from tqdm import tqdm\n",
    "\n",
    "headers = {'User-agent': 'Mozilla/5.0 (X11; Ubuntu; Linux x86_64; rv:61.0) Gecko/20100101 Firefox/61.0'}"
   ]
  },
  {
   "cell_type": "code",
   "execution_count": 44,
   "metadata": {},
   "outputs": [],
   "source": [
    "def scanner(subject):\n",
    "    \n",
    "    # store sites as a dictionary\n",
    "    # key is site name, value is a list - element 1 is the search url, element 2 is the search result element, and 3 is the class\n",
    "    sites = {\"aljazeera\": [f\"https://www.aljazeera.com/search/{subject}\", \"a\", \"u-clickable-card__link\"]}\n",
    "    \n",
    "    \n",
    "    articles = {}\n",
    "    df = pd.DataFrame()\n",
    "    article_sites = []\n",
    "    titles = []\n",
    "    article_contents = []\n",
    "\n",
    "    print(\"Scanning...\\n\")\n",
    "    for site in tqdm(sites.items()):\n",
    "        article_links = []\n",
    "        print(site)\n",
    "        \n",
    "        r = requests.get(site[1][0], headers=headers)\n",
    "        c = r.content\n",
    "        soup = BeautifulSoup(c, \"html.parser\")\n",
    "        page_results = soup.find_all(site[1][1], {\"class\": site[1][2]})\n",
    "        for page in tqdm(page_results):\n",
    "            print(page['href'])\n",
    "            article_links.append(str(page['href']))\n",
    "            \n",
    "            for article in article_links:\n",
    "                r = requests.get(article, headers=headers)\n",
    "                c = r.content \n",
    "                soup = BeautifulSoup(c, \"html.parser\")\n",
    "                page_title = soup.select_one(\".article-header\").getText()\n",
    "                page_content = soup.select_one(\".l-col\").getText()\n",
    "                article_sites.append(site[0])\n",
    "                titles.append(page_title)\n",
    "                article_contents.append(page_content)\n",
    "    \n",
    "    df['source'] = [site for site in article_sites]\n",
    "    df['title'] = [title for title in titles]\n",
    "    df['content'] = [content for content in article_contents]\n",
    "    return df"
   ]
  },
  {
   "cell_type": "code",
   "execution_count": 45,
   "metadata": {},
   "outputs": [
    {
     "name": "stdout",
     "output_type": "stream",
     "text": [
      "Scanning...\n",
      "\n"
     ]
    },
    {
     "name": "stderr",
     "output_type": "stream",
     "text": [
      "  0%|          | 0/1 [00:00<?, ?it/s]"
     ]
    },
    {
     "name": "stdout",
     "output_type": "stream",
     "text": [
      "('aljazeera', ['https://www.aljazeera.com/search/COP26', 'a', 'u-clickable-card__link'])\n"
     ]
    },
    {
     "name": "stderr",
     "output_type": "stream",
     "text": []
    },
    {
     "name": "stdout",
     "output_type": "stream",
     "text": [
      "https://www.aljazeera.com/news/2021/9/6/cop26-summit-urged-to-prioritise-adaptation-as-emergency-surges\n"
     ]
    },
    {
     "name": "stderr",
     "output_type": "stream",
     "text": []
    },
    {
     "name": "stdout",
     "output_type": "stream",
     "text": [
      "https://www.aljazeera.com/news/2021/10/31/cop26-begins-with-urgent-calls-to-avert-climate-disaster\n"
     ]
    },
    {
     "name": "stderr",
     "output_type": "stream",
     "text": []
    },
    {
     "name": "stdout",
     "output_type": "stream",
     "text": [
      "https://www.aljazeera.com/news/2021/11/14/cop26-whats-in-the-glasgow-climate-pact\n"
     ]
    },
    {
     "name": "stderr",
     "output_type": "stream",
     "text": []
    },
    {
     "name": "stdout",
     "output_type": "stream",
     "text": [
      "https://www.aljazeera.com/news/2021/10/26/glasgow-world-friendliest-city-set-to-host-cop26-on-climate-crisis\n"
     ]
    },
    {
     "name": "stderr",
     "output_type": "stream",
     "text": []
    },
    {
     "name": "stdout",
     "output_type": "stream",
     "text": [
      "https://www.aljazeera.com/economy/2021/11/1/cop26-developing-nations-urge-rich-ones-to-fund-climate-goals\n"
     ]
    },
    {
     "name": "stderr",
     "output_type": "stream",
     "text": []
    },
    {
     "name": "stdout",
     "output_type": "stream",
     "text": [
      "https://www.aljazeera.com/news/2021/11/1/cop26-climate-summit-opens-in-glasgow\n"
     ]
    },
    {
     "name": "stderr",
     "output_type": "stream",
     "text": []
    },
    {
     "name": "stdout",
     "output_type": "stream",
     "text": [
      "https://www.aljazeera.com/news/2021/10/26/lee-white-how-gabon-plans-to-lead-the-african-negotiators-at-cop26\n"
     ]
    },
    {
     "name": "stderr",
     "output_type": "stream",
     "text": []
    },
    {
     "name": "stdout",
     "output_type": "stream",
     "text": [
      "https://www.aljazeera.com/news/2021/11/12/deforestation-in-brazils-amazon-rising-despite-cop26-pledges\n"
     ]
    },
    {
     "name": "stderr",
     "output_type": "stream",
     "text": []
    },
    {
     "name": "stdout",
     "output_type": "stream",
     "text": [
      "https://www.aljazeera.com/news/2021/10/28/infographic-cop26-who-is-attending\n"
     ]
    },
    {
     "name": "stderr",
     "output_type": "stream",
     "text": []
    },
    {
     "name": "stdout",
     "output_type": "stream",
     "text": [
      "https://www.aljazeera.com/news/2021/11/8/obama-hits-russia-china-for-lack-of-urgency-on-climate\n"
     ]
    },
    {
     "name": "stderr",
     "output_type": "stream",
     "text": [
      "100%|██████████| 10/10 [02:37<00:00, 15.72s/it]\n",
      "100%|██████████| 1/1 [02:41<00:00, 161.70s/it]\n"
     ]
    },
    {
     "data": {
      "text/html": [
       "<div>\n",
       "<style scoped>\n",
       "    .dataframe tbody tr th:only-of-type {\n",
       "        vertical-align: middle;\n",
       "    }\n",
       "\n",
       "    .dataframe tbody tr th {\n",
       "        vertical-align: top;\n",
       "    }\n",
       "\n",
       "    .dataframe thead th {\n",
       "        text-align: right;\n",
       "    }\n",
       "</style>\n",
       "<table border=\"1\" class=\"dataframe\">\n",
       "  <thead>\n",
       "    <tr style=\"text-align: right;\">\n",
       "      <th></th>\n",
       "      <th>source</th>\n",
       "      <th>title</th>\n",
       "      <th>content</th>\n",
       "    </tr>\n",
       "  </thead>\n",
       "  <tbody>\n",
       "    <tr>\n",
       "      <th>0</th>\n",
       "      <td>aljazeera</td>\n",
       "      <td>News|Climate CrisisCOP26 urged to prioritise a...</td>\n",
       "      <td>News|Climate CrisisCOP26 urged to prioritise a...</td>\n",
       "    </tr>\n",
       "    <tr>\n",
       "      <th>1</th>\n",
       "      <td>aljazeera</td>\n",
       "      <td>News|Climate CrisisCOP26 urged to prioritise a...</td>\n",
       "      <td>News|Climate CrisisCOP26 urged to prioritise a...</td>\n",
       "    </tr>\n",
       "    <tr>\n",
       "      <th>2</th>\n",
       "      <td>aljazeera</td>\n",
       "      <td>News|Climate CrisisCOP26: World gathers amid c...</td>\n",
       "      <td>News|Climate CrisisCOP26: World gathers amid c...</td>\n",
       "    </tr>\n",
       "    <tr>\n",
       "      <th>3</th>\n",
       "      <td>aljazeera</td>\n",
       "      <td>News|Climate CrisisCOP26 urged to prioritise a...</td>\n",
       "      <td>News|Climate CrisisCOP26 urged to prioritise a...</td>\n",
       "    </tr>\n",
       "    <tr>\n",
       "      <th>4</th>\n",
       "      <td>aljazeera</td>\n",
       "      <td>News|Climate CrisisCOP26: World gathers amid c...</td>\n",
       "      <td>News|Climate CrisisCOP26: World gathers amid c...</td>\n",
       "    </tr>\n",
       "  </tbody>\n",
       "</table>\n",
       "</div>"
      ],
      "text/plain": [
       "      source                                              title  \\\n",
       "0  aljazeera  News|Climate CrisisCOP26 urged to prioritise a...   \n",
       "1  aljazeera  News|Climate CrisisCOP26 urged to prioritise a...   \n",
       "2  aljazeera  News|Climate CrisisCOP26: World gathers amid c...   \n",
       "3  aljazeera  News|Climate CrisisCOP26 urged to prioritise a...   \n",
       "4  aljazeera  News|Climate CrisisCOP26: World gathers amid c...   \n",
       "\n",
       "                                             content  \n",
       "0  News|Climate CrisisCOP26 urged to prioritise a...  \n",
       "1  News|Climate CrisisCOP26 urged to prioritise a...  \n",
       "2  News|Climate CrisisCOP26: World gathers amid c...  \n",
       "3  News|Climate CrisisCOP26 urged to prioritise a...  \n",
       "4  News|Climate CrisisCOP26: World gathers amid c...  "
      ]
     },
     "execution_count": 45,
     "metadata": {},
     "output_type": "execute_result"
    }
   ],
   "source": [
    "df = scanner(\"COP26\")\n",
    "df.head()"
   ]
  },
  {
   "cell_type": "code",
   "execution_count": 49,
   "metadata": {},
   "outputs": [
    {
     "data": {
      "text/plain": [
       "'News|Climate CrisisCOP26 urged to prioritise adaptation as climate emergency surgesMore than 50 officials convening in Rotterdam call for November’s COP26 climate talks to treat adaptation as ‘urgent’.'"
      ]
     },
     "execution_count": 49,
     "metadata": {},
     "output_type": "execute_result"
    }
   ],
   "source": [
    "df['title'][0]"
   ]
  },
  {
   "cell_type": "code",
   "execution_count": 50,
   "metadata": {},
   "outputs": [],
   "source": [
    "import sqlalchemy\n",
    "engine = sqlalchemy.create_engine('sqlite:///sent_data.db')\n",
    "df.to_sql(\"news_data\", engine, if_exists=\"append\", index=False)"
   ]
  }
 ],
 "metadata": {
  "interpreter": {
   "hash": "eb76495773cc6fcc672a145c8448d0fd4041dc908d92c03312179933473c90a7"
  },
  "kernelspec": {
   "display_name": "Python 3.8.10 64-bit ('project_env': venv)",
   "language": "python",
   "name": "python3"
  },
  "language_info": {
   "codemirror_mode": {
    "name": "ipython",
    "version": 3
   },
   "file_extension": ".py",
   "mimetype": "text/x-python",
   "name": "python",
   "nbconvert_exporter": "python",
   "pygments_lexer": "ipython3",
   "version": "3.8.10"
  },
  "orig_nbformat": 4
 },
 "nbformat": 4,
 "nbformat_minor": 2
}
